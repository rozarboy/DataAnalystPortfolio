{
 "cells": [
  {
   "cell_type": "code",
   "execution_count": 1,
   "id": "fbad6679",
   "metadata": {},
   "outputs": [],
   "source": [
    "import pandas as pd"
   ]
  },
  {
   "cell_type": "code",
   "execution_count": 2,
   "id": "94ca2b28",
   "metadata": {},
   "outputs": [],
   "source": [
    "Bicis = pd.read_csv(r\"C:\\Users\\Flia. Lazarte\\Desktop\\Nueva carpeta\\FF\\london_merged.csv\")"
   ]
  },
  {
   "cell_type": "code",
   "execution_count": 3,
   "id": "01076029",
   "metadata": {},
   "outputs": [
    {
     "data": {
      "text/plain": [
       "(17414, 10)"
      ]
     },
     "execution_count": 3,
     "metadata": {},
     "output_type": "execute_result"
    }
   ],
   "source": [
    "#exploramos la data\n",
    "#Bicis.info()\n",
    "Bicis.shape"
   ]
  },
  {
   "cell_type": "code",
   "execution_count": 4,
   "id": "c9adc802",
   "metadata": {},
   "outputs": [
    {
     "data": {
      "text/plain": [
       "weather_code\n",
       "1.0     6150\n",
       "2.0     4034\n",
       "3.0     3551\n",
       "7.0     2141\n",
       "4.0     1464\n",
       "26.0      60\n",
       "10.0      14\n",
       "Name: count, dtype: int64"
      ]
     },
     "execution_count": 4,
     "metadata": {},
     "output_type": "execute_result"
    }
   ],
   "source": [
    "#contamos los valores unicos en la columna 'weather_code'\n",
    "Bicis.weather_code.value_counts()"
   ]
  },
  {
   "cell_type": "code",
   "execution_count": 5,
   "id": "2da646bf",
   "metadata": {},
   "outputs": [
    {
     "data": {
      "text/plain": [
       "season\n",
       "0.0    4394\n",
       "1.0    4387\n",
       "3.0    4330\n",
       "2.0    4303\n",
       "Name: count, dtype: int64"
      ]
     },
     "execution_count": 5,
     "metadata": {},
     "output_type": "execute_result"
    }
   ],
   "source": [
    "#contamos los valores unicos en la columna 'season'\n",
    "Bicis.season.value_counts()"
   ]
  },
  {
   "cell_type": "code",
   "execution_count": 6,
   "id": "73b57759",
   "metadata": {},
   "outputs": [],
   "source": [
    "new_cols_dict ={\n",
    "    'timestamp':'tiempo',\n",
    "    'cnt':'contar',\n",
    "    't1':'temp_real_c',\n",
    "    't2':'sensacion_termica_c',\n",
    "    'hum':'humedad_porcentaje',\n",
    "    'wind_speed':'velocidad_del_viento_kmh',\n",
    "    'weather_code':'clima',\n",
    "    'is_holiday':'feriado',\n",
    "    'is_weekend':'fin_de_semana',\n",
    "    'season':'estacion'\n",
    "}\n",
    "#renombrando las columnas\n",
    "Bicis.rename(new_cols_dict, axis=1, inplace = True)"
   ]
  },
  {
   "cell_type": "code",
   "execution_count": 7,
   "id": "95c2974a",
   "metadata": {},
   "outputs": [],
   "source": [
    "#cambio los valores del porcentaje de humedad (entre 0 y 1)\n",
    "Bicis.humedad_porcentaje = Bicis.humedad_porcentaje / 100"
   ]
  },
  {
   "cell_type": "code",
   "execution_count": 8,
   "id": "1cfc45de",
   "metadata": {},
   "outputs": [],
   "source": [
    "season_dict = {\n",
    "    '0.0':'primavera',\n",
    "    '1.0':'verano',\n",
    "    '2.0':'otoño',\n",
    "    '3.0':'invierno'\n",
    "}\n",
    "\n",
    "weather_dict = {\n",
    "    '1.0':'Despejado',\n",
    "    '2.0':'Nubes dispersas',\n",
    "    '3.0':'Mayormente nublado',\n",
    "    '4.0':'Nublado',\n",
    "    '7.0':'Lluvia',\n",
    "    '10.0':'Lluvia con tormenta',\n",
    "    '26.0':'Nieve'\n",
    "}\n",
    "\n",
    "Bicis.estacion = Bicis.estacion.astype('str')\n",
    "\n",
    "Bicis.estacion = Bicis.estacion.map(season_dict)\n",
    "\n",
    "Bicis.clima = Bicis.clima.astype('str')\n",
    "\n",
    "Bicis.clima = Bicis.clima.map(weather_dict)\n"
   ]
  },
  {
   "cell_type": "code",
   "execution_count": 9,
   "id": "4f6c81e5",
   "metadata": {},
   "outputs": [
    {
     "data": {
      "text/html": [
       "<div>\n",
       "<style scoped>\n",
       "    .dataframe tbody tr th:only-of-type {\n",
       "        vertical-align: middle;\n",
       "    }\n",
       "\n",
       "    .dataframe tbody tr th {\n",
       "        vertical-align: top;\n",
       "    }\n",
       "\n",
       "    .dataframe thead th {\n",
       "        text-align: right;\n",
       "    }\n",
       "</style>\n",
       "<table border=\"1\" class=\"dataframe\">\n",
       "  <thead>\n",
       "    <tr style=\"text-align: right;\">\n",
       "      <th></th>\n",
       "      <th>tiempo</th>\n",
       "      <th>contar</th>\n",
       "      <th>temp_real_c</th>\n",
       "      <th>sensacion_termica_c</th>\n",
       "      <th>humedad_porcentaje</th>\n",
       "      <th>velocidad_del_viento_kmh</th>\n",
       "      <th>clima</th>\n",
       "      <th>feriado</th>\n",
       "      <th>fin_de_semana</th>\n",
       "      <th>estacion</th>\n",
       "    </tr>\n",
       "  </thead>\n",
       "  <tbody>\n",
       "    <tr>\n",
       "      <th>0</th>\n",
       "      <td>2015-01-04 00:00:00</td>\n",
       "      <td>182</td>\n",
       "      <td>3.0</td>\n",
       "      <td>2.0</td>\n",
       "      <td>0.930</td>\n",
       "      <td>6.0</td>\n",
       "      <td>Mayormente nublado</td>\n",
       "      <td>0.0</td>\n",
       "      <td>1.0</td>\n",
       "      <td>invierno</td>\n",
       "    </tr>\n",
       "    <tr>\n",
       "      <th>1</th>\n",
       "      <td>2015-01-04 01:00:00</td>\n",
       "      <td>138</td>\n",
       "      <td>3.0</td>\n",
       "      <td>2.5</td>\n",
       "      <td>0.930</td>\n",
       "      <td>5.0</td>\n",
       "      <td>Despejado</td>\n",
       "      <td>0.0</td>\n",
       "      <td>1.0</td>\n",
       "      <td>invierno</td>\n",
       "    </tr>\n",
       "    <tr>\n",
       "      <th>2</th>\n",
       "      <td>2015-01-04 02:00:00</td>\n",
       "      <td>134</td>\n",
       "      <td>2.5</td>\n",
       "      <td>2.5</td>\n",
       "      <td>0.965</td>\n",
       "      <td>0.0</td>\n",
       "      <td>Despejado</td>\n",
       "      <td>0.0</td>\n",
       "      <td>1.0</td>\n",
       "      <td>invierno</td>\n",
       "    </tr>\n",
       "    <tr>\n",
       "      <th>3</th>\n",
       "      <td>2015-01-04 03:00:00</td>\n",
       "      <td>72</td>\n",
       "      <td>2.0</td>\n",
       "      <td>2.0</td>\n",
       "      <td>1.000</td>\n",
       "      <td>0.0</td>\n",
       "      <td>Despejado</td>\n",
       "      <td>0.0</td>\n",
       "      <td>1.0</td>\n",
       "      <td>invierno</td>\n",
       "    </tr>\n",
       "    <tr>\n",
       "      <th>4</th>\n",
       "      <td>2015-01-04 04:00:00</td>\n",
       "      <td>47</td>\n",
       "      <td>2.0</td>\n",
       "      <td>0.0</td>\n",
       "      <td>0.930</td>\n",
       "      <td>6.5</td>\n",
       "      <td>Despejado</td>\n",
       "      <td>0.0</td>\n",
       "      <td>1.0</td>\n",
       "      <td>invierno</td>\n",
       "    </tr>\n",
       "  </tbody>\n",
       "</table>\n",
       "</div>"
      ],
      "text/plain": [
       "                tiempo  contar  temp_real_c  sensacion_termica_c  \\\n",
       "0  2015-01-04 00:00:00     182          3.0                  2.0   \n",
       "1  2015-01-04 01:00:00     138          3.0                  2.5   \n",
       "2  2015-01-04 02:00:00     134          2.5                  2.5   \n",
       "3  2015-01-04 03:00:00      72          2.0                  2.0   \n",
       "4  2015-01-04 04:00:00      47          2.0                  0.0   \n",
       "\n",
       "   humedad_porcentaje  velocidad_del_viento_kmh               clima  feriado  \\\n",
       "0               0.930                       6.0  Mayormente nublado      0.0   \n",
       "1               0.930                       5.0           Despejado      0.0   \n",
       "2               0.965                       0.0           Despejado      0.0   \n",
       "3               1.000                       0.0           Despejado      0.0   \n",
       "4               0.930                       6.5           Despejado      0.0   \n",
       "\n",
       "   fin_de_semana  estacion  \n",
       "0            1.0  invierno  \n",
       "1            1.0  invierno  \n",
       "2            1.0  invierno  \n",
       "3            1.0  invierno  \n",
       "4            1.0  invierno  "
      ]
     },
     "execution_count": 9,
     "metadata": {},
     "output_type": "execute_result"
    }
   ],
   "source": [
    "Bicis.head()"
   ]
  },
  {
   "cell_type": "code",
   "execution_count": 10,
   "id": "9e7705f0",
   "metadata": {},
   "outputs": [],
   "source": [
    "Bicis.to_excel('london_bicis_final.xlsx', sheet_name='Data')"
   ]
  },
  {
   "cell_type": "code",
   "execution_count": null,
   "id": "2a08bec0",
   "metadata": {},
   "outputs": [],
   "source": []
  },
  {
   "cell_type": "code",
   "execution_count": null,
   "id": "474a094e",
   "metadata": {},
   "outputs": [],
   "source": []
  },
  {
   "cell_type": "code",
   "execution_count": null,
   "id": "c415428e",
   "metadata": {},
   "outputs": [],
   "source": []
  },
  {
   "cell_type": "code",
   "execution_count": null,
   "id": "8e596af2",
   "metadata": {},
   "outputs": [],
   "source": []
  },
  {
   "cell_type": "code",
   "execution_count": null,
   "id": "a0284eb0",
   "metadata": {},
   "outputs": [],
   "source": []
  }
 ],
 "metadata": {
  "kernelspec": {
   "display_name": "Python 3 (ipykernel)",
   "language": "python",
   "name": "python3"
  },
  "language_info": {
   "codemirror_mode": {
    "name": "ipython",
    "version": 3
   },
   "file_extension": ".py",
   "mimetype": "text/x-python",
   "name": "python",
   "nbconvert_exporter": "python",
   "pygments_lexer": "ipython3",
   "version": "3.11.5"
  }
 },
 "nbformat": 4,
 "nbformat_minor": 5
}
