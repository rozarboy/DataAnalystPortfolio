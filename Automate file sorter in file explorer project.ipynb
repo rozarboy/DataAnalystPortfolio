{
 "cells": [
  {
   "cell_type": "code",
   "execution_count": 2,
   "id": "29a9853a",
   "metadata": {},
   "outputs": [],
   "source": [
    "import os, shutil"
   ]
  },
  {
   "cell_type": "code",
   "execution_count": 26,
   "id": "6be9f66a",
   "metadata": {},
   "outputs": [],
   "source": [
    "path = r\"C:/Users/Flia. Lazarte/Desktop/Nueva carpeta/Work/\""
   ]
  },
  {
   "cell_type": "code",
   "execution_count": 30,
   "id": "0f2120d2",
   "metadata": {},
   "outputs": [],
   "source": [
    "file_name = os.listdir(path)"
   ]
  },
  {
   "cell_type": "code",
   "execution_count": 31,
   "id": "b701a77d",
   "metadata": {},
   "outputs": [],
   "source": [
    "folder_names = ['xlsx files', 'lnk files', 'wenp files']\n",
    "\n",
    "for loop in range (0,3):\n",
    "    if not os.path.exists(path + folder_names[loop]):\n",
    "        print(path + folder_names[loop])\n",
    "        os.makedirs(path + folder_names[loop])\n",
    "        \n",
    "for file in file_name:\n",
    "    if \".xlsx\" in file and not os.path.exists(path + \"xlsx files/\" + file):\n",
    "        shutil.move(path + file, path + \"xlsx files/\" + file)\n",
    "    elif \".lnk\" in file and not os.path.exists(path + \"lnk files/\" + file):\n",
    "        shutil.move(path + file, path + \"lnk files/\" + file)\n",
    "    elif \".wenp\" in file and not os.path.exists(path + \"wenp files/\" + file):\n",
    "        shutil.move(path + file, path + \"wenp files/\" + file)"
   ]
  },
  {
   "cell_type": "code",
   "execution_count": 32,
   "id": "002a4ef5",
   "metadata": {},
   "outputs": [],
   "source": [
    "for file in file_name:\n",
    "    if \".xlsx\" in file and not os.path.exists(path + \"xlsx files/\" + file):\n",
    "        shutil.move(path + file, path + \"xlsx files/\" + file)\n",
    "    elif \".lnk\" in file and not os.path.exists(path + \"lnk files/\" + file):\n",
    "        shutil.move(path + file, path + \"lnk files/\" + file)\n",
    "    elif \".wenp\" in file and not os.path.exists(path + \"wenp files/\" + file):\n",
    "        shutil.move(path + file, path + \"wenp files/\" + file)"
   ]
  },
  {
   "cell_type": "code",
   "execution_count": null,
   "id": "cba546f7",
   "metadata": {},
   "outputs": [],
   "source": []
  }
 ],
 "metadata": {
  "kernelspec": {
   "display_name": "Python 3 (ipykernel)",
   "language": "python",
   "name": "python3"
  },
  "language_info": {
   "codemirror_mode": {
    "name": "ipython",
    "version": 3
   },
   "file_extension": ".py",
   "mimetype": "text/x-python",
   "name": "python",
   "nbconvert_exporter": "python",
   "pygments_lexer": "ipython3",
   "version": "3.11.5"
  }
 },
 "nbformat": 4,
 "nbformat_minor": 5
}
